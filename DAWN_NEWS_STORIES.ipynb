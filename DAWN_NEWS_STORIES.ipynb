{
  "cells": [
    {
      "cell_type": "markdown",
      "metadata": {
        "colab_type": "text",
        "id": "view-in-github"
      },
      "source": [
        "<a href=\"https://colab.research.google.com/github/faheem77/WEB-SCRAPPING-SCRIPTS/blob/main/DAWN_NEWS_STORIES.ipynb\" target=\"_parent\"><img src=\"https://colab.research.google.com/assets/colab-badge.svg\" alt=\"Open In Colab\"/></a>"
      ]
    },
    {
      "cell_type": "code",
      "execution_count": null,
      "metadata": {
        "id": "OuuDt_PlvXzK"
      },
      "outputs": [],
      "source": [
        "import requests\n",
        "from bs4 import BeautifulSoup, SoupStrainer\n",
        "import time\n",
        "import pandas as pd\n",
        "from tqdm import tqdm\n",
        "from multiprocessing import Process\n",
        "import os\n",
        "def urls():\n",
        "  links=[]\n",
        "  session= requests.session()\n",
        "  for i in range(1,13):\n",
        "    headers= {\"User-Agent\": 'Mozilla/5.0 (Windows NT 10.0; Win64; x64) AppleWebKit/537.36 (KHTML, like Gecko) Chrome/100.0.4896.75 Safari/537.36'}\n",
        "    url= f'https://www.dawn.com/trends/no-confidence/{i}'\n",
        "    only_a_tags= SoupStrainer('a')\n",
        "    r= session.get(url,headers=headers)\n",
        "    # print(r.status_code)\n",
        "    soup= BeautifulSoup(r.content,'lxml', parse_only=only_a_tags)\n",
        "    for x in soup.findAll('a', class_='story__link'):\n",
        "      links.append(x.get('href'))\n",
        "    print()\n",
        "  return links\n",
        "def scrap():\n",
        "  title=[]\n",
        "  body=[]\n",
        "  time=[]\n",
        "  link=[]\n",
        "  session= requests.session()\n",
        "  for url in urls():\n",
        "    headers= {\"User-Agent\": 'Mozilla/5.0 (Windows NT 10.0; Win64; x64) AppleWebKit/537.36 (KHTML, like Gecko) Chrome/100.0.4896.75 Safari/537.36'}\n",
        "    r= session.get(url,headers=headers)\n",
        "    print(\"current process: \", os.getpid())\n",
        "    print(r.status_code)\n",
        "    tags= SoupStrainer(['article','div','a','span'])\n",
        "    soup=BeautifulSoup(r.content,'lxml', parse_only=tags)\n",
        "    for i in soup.findAll('article', class_=['story','single','bg-white font-georgia']):\n",
        "      data=i.find('a', class_='story__link').text\n",
        "      content= i.find('div', class_=['story__content'])\n",
        "      t = i.find('span', class_='story__time')\n",
        "      if content !=None:\n",
        "        title.append(data)\n",
        "        body.append(content.text)\n",
        "        time.append(t.text)\n",
        "        link.append(url)\n",
        "  df=pd.DataFrame({\"Title\":title, \"TIME\":time, \"Body\":body, \"URL\": link})\n",
        "  df.to_csv(\"DAWN-NEWS-STORIES-on-NO-CONFIDENCE-MOTION.csv\", index=True)\n",
        "\n",
        "if __name__ == '__main__':\n",
        "\n",
        "  p=Process(target=scrap)\n",
        "  p2=Process(target=scrap)\n",
        "\n",
        "  p.start()\n",
        "  p2.start()\n",
        "  p.join()\n",
        "  p2.join()\n",
        "  "
      ]
    }
  ],
  "metadata": {
    "colab": {
      "authorship_tag": "ABX9TyMRT1yOgqTKSHPHETladdxD",
      "include_colab_link": true,
      "name": "DAWN-NEWS-STORIES.ipynb",
      "provenance": []
    },
    "kernelspec": {
      "display_name": "Python 3",
      "name": "python3"
    },
    "language_info": {
      "codemirror_mode": {
        "name": "ipython",
        "version": 3
      },
      "file_extension": ".py",
      "mimetype": "text/x-python",
      "name": "python",
      "nbconvert_exporter": "python",
      "pygments_lexer": "ipython3",
      "version": "3.9.9"
    }
  },
  "nbformat": 4,
  "nbformat_minor": 0
}
